{
  "nbformat": 4,
  "nbformat_minor": 0,
  "metadata": {
    "colab": {
      "name": "index.ipynb",
      "provenance": [],
      "collapsed_sections": [],
      "toc_visible": true
    },
    "kernelspec": {
      "name": "python3",
      "display_name": "Python 3"
    }
  },
  "cells": [
    {
      "cell_type": "markdown",
      "metadata": {
        "id": "91SoBkUMTuHq",
        "colab_type": "text"
      },
      "source": [
        " ### [Duplicates. Duplicates Everywhere.](https://www.codewars.com/kata/5e8dd197c122f6001a8637ca/train/python)\n",
        "\n",
        " You are given a table, in which every key is a stringified number, and each corresponding value is an array of characters, e.g.\n",
        "\n",
        " ```\n",
        "{\n",
        "  \"1\": [\"A\", \"B\", \"C\"],\n",
        "  \"2\": [\"A\", \"B\", \"D\", \"A\"],\n",
        "}\n",
        " ```\n",
        "\n",
        "Create a function that returns a table with the same keys, but each character should appear only once among the value-arrays, e.g.\n",
        "```\n",
        "{\n",
        "  \"1\": [\"C\"],\n",
        "  \"2\": [\"A\", \"B\", \"D\"],\n",
        "}\n",
        "```\n",
        "#### Rules\n",
        "Whenever two keys share the same character, they should be compared numerically, and the larger key will keep that character. That's why in the example above the array under the key \"2\" contains \"A\" and \"B\", as 2 > 1.\n",
        "If duplicate characters are found in the same array, the first occurance should be kept.\n",
        "#### Example 1\n",
        "```\n",
        "input = {\n",
        "  \"1\": [\"C\", \"F\", \"G\"],\n",
        "  \"2\": [\"A\", \"B\", \"C\"],\n",
        "  \"3\": [\"A\", \"B\", \"D\"],\n",
        "}\n",
        "\n",
        "output = {\n",
        "  \"1\": [\"F\", \"G\"],\n",
        "  \"2\": [\"C\"],\n",
        "  \"3\": [\"A\", \"B\", \"D\"],\n",
        "}\n",
        "```\n",
        "#### Example 2\n",
        "```\n",
        "input = {\n",
        "  \"1\": [\"A\"],\n",
        "  \"2\": [\"A\"],\n",
        "  \"3\": [\"A\"],\n",
        "}\n",
        "\n",
        "output = {\n",
        "  \"1\": [],\n",
        "  \"2\": [],\n",
        "  \"3\": [\"A\"],\n",
        "}\n",
        "```\n",
        "#### Example 3\n",
        "```\n",
        "input = {\n",
        "  \"432\": [\"A\", \"A\", \"B\", \"D\"],\n",
        "  \"53\": [\"L\", \"G\", \"B\", \"C\"],\n",
        "  \"236\": [\"L\", \"A\", \"X\", \"G\", \"H\", \"X\"],\n",
        "  \"11\": [\"P\", \"R\", \"S\", \"D\"],\n",
        "}\n",
        "\n",
        "output = {\n",
        "  \"11\": [\"P\", \"R\", \"S\"],\n",
        "  \"53\": [\"C\"],\n",
        "  \"236\": [\"L\", \"X\", \"G\", \"H\"],\n",
        "  \"432\": [\"A\", \"B\", \"D\"],\n",
        "}\n",
        "```"
      ]
    },
    {
      "cell_type": "code",
      "metadata": {
        "id": "5B38IG5HVfOc",
        "colab_type": "code",
        "colab": {}
      },
      "source": [
        "def remove_duplicate_ids(input):\n",
        "    keys = sorted([int(key) for key in input.keys()], reverse=True)\n",
        "    collect = []\n",
        "    new = {}\n",
        "    for key in keys:\n",
        "        list_of_letters = input[str(key)]\n",
        "        print(list_of_letters)\n",
        "        new[str(key)] = []\n",
        "        for letter in list_of_letters:\n",
        "            if letter not in collect:\n",
        "\n",
        "                new[str(key)].append(letter)\n",
        "                collect.append(letter)\n",
        "    return new\n",
        "    \n",
        "\n",
        "\n"
      ],
      "execution_count": null,
      "outputs": []
    },
    {
      "cell_type": "code",
      "metadata": {
        "id": "-_P1L0Rie5OO",
        "colab_type": "code",
        "colab": {}
      },
      "source": [
        ""
      ],
      "execution_count": null,
      "outputs": []
    }
  ]
}